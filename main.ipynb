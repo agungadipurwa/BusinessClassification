{
 "cells": [
  {
   "cell_type": "markdown",
   "metadata": {},
   "source": [
    "## Depedencies Setup"
   ]
  },
  {
   "cell_type": "code",
   "execution_count": null,
   "metadata": {},
   "outputs": [],
   "source": [
    "!pip install pandas"
   ]
  },
  {
   "cell_type": "code",
   "execution_count": null,
   "metadata": {},
   "outputs": [],
   "source": [
    "!pip install openpyxl"
   ]
  },
  {
   "cell_type": "code",
   "execution_count": null,
   "metadata": {},
   "outputs": [],
   "source": [
    "!pip install -U scikit-learn\n"
   ]
  },
  {
   "cell_type": "code",
   "execution_count": null,
   "metadata": {},
   "outputs": [],
   "source": [
    "!pip install transformers\n"
   ]
  },
  {
   "cell_type": "code",
   "execution_count": null,
   "metadata": {},
   "outputs": [],
   "source": [
    "!pip install datasets"
   ]
  },
  {
   "cell_type": "code",
   "execution_count": null,
   "metadata": {},
   "outputs": [],
   "source": [
    "!pip install matplotlib"
   ]
  },
  {
   "cell_type": "code",
   "execution_count": null,
   "metadata": {},
   "outputs": [],
   "source": [
    "!pip install torch"
   ]
  },
  {
   "cell_type": "code",
   "execution_count": null,
   "metadata": {},
   "outputs": [],
   "source": [
    "!pip install accelerate -U\n"
   ]
  },
  {
   "cell_type": "code",
   "execution_count": 1,
   "metadata": {},
   "outputs": [],
   "source": [
    "from sklearn.model_selection import train_test_split\n",
    "from sklearn.metrics import confusion_matrix, classification_report\n",
    "from sklearn.utils import resample\n",
    "from transformers import Trainer\n",
    "from datasets import load_metric\n",
    "import matplotlib.pyplot as plt\n",
    "from datasets import load_dataset\n",
    "import os\n",
    "from transformers import AutoTokenizer, AutoModel\n",
    "# import seaborn as sns\n",
    "import pandas as pd\n",
    "import numpy as np\n",
    "from transformers import AutoModelForSequenceClassification\n",
    "\n",
    "import preprocessor as p\n",
    "import regex as re\n",
    "import string\n",
    "\n",
    "from datasets import Dataset\n",
    "\n"
   ]
  },
  {
   "cell_type": "markdown",
   "metadata": {},
   "source": [
    "## PATH CONFIG SETUP"
   ]
  },
  {
   "cell_type": "code",
   "execution_count": 2,
   "metadata": {},
   "outputs": [],
   "source": [
    "DATA = os.path.join(os.getcwd(),'data')\n",
    "NLP = os.path.join(os.getcwd(),'NLP_bahasa_resources')\n"
   ]
  },
  {
   "cell_type": "code",
   "execution_count": 3,
   "metadata": {},
   "outputs": [],
   "source": [
    "paths={\n",
    "    'DATA_CLEAN': os.path.join(DATA,'feature.xlsx'),\n",
    "    'TRAIN': os.path.join(DATA, 'train.csv'),\n",
    "    'VALIDATION': os.path.join(DATA, 'eval.csv'),\n",
    "    'TEST': os.path.join(DATA, 'test.csv'),\n",
    "    'ROOT':os.path.join(NLP, 'combined_root_words.txt'),\n",
    "    'SLANG': os.path.join(NLP, 'combined_slang_words.txt'),\n",
    "    'STOPWORD': os.path.join(NLP, 'combined_stop_words.txt'),\n",
    "    'SAVE_MODEL': os.path.join(os.getcwd(), 'model')\n",
    "}\n"
   ]
  },
  {
   "cell_type": "markdown",
   "metadata": {},
   "source": [
    "## DATASET SETUP"
   ]
  },
  {
   "cell_type": "markdown",
   "metadata": {},
   "source": [
    "### Load Dataset"
   ]
  },
  {
   "cell_type": "code",
   "execution_count": 4,
   "metadata": {},
   "outputs": [],
   "source": [
    "feature = pd.read_excel(paths['DATA_CLEAN'])\n"
   ]
  },
  {
   "cell_type": "code",
   "execution_count": 5,
   "metadata": {},
   "outputs": [
    {
     "data": {
      "text/html": [
       "<div>\n",
       "<style scoped>\n",
       "    .dataframe tbody tr th:only-of-type {\n",
       "        vertical-align: middle;\n",
       "    }\n",
       "\n",
       "    .dataframe tbody tr th {\n",
       "        vertical-align: top;\n",
       "    }\n",
       "\n",
       "    .dataframe thead th {\n",
       "        text-align: right;\n",
       "    }\n",
       "</style>\n",
       "<table border=\"1\" class=\"dataframe\">\n",
       "  <thead>\n",
       "    <tr style=\"text-align: right;\">\n",
       "      <th></th>\n",
       "      <th>kategori_usaha</th>\n",
       "      <th>output_usaha</th>\n",
       "      <th>kode_kategori</th>\n",
       "      <th>kode_kelompok</th>\n",
       "      <th>text</th>\n",
       "      <th>punctuation</th>\n",
       "      <th>tokenization</th>\n",
       "      <th>stopwords</th>\n",
       "      <th>stemming</th>\n",
       "    </tr>\n",
       "  </thead>\n",
       "  <tbody>\n",
       "    <tr>\n",
       "      <th>0</th>\n",
       "      <td>jual beli sarana upacara</td>\n",
       "      <td>banten dari janur</td>\n",
       "      <td>c</td>\n",
       "      <td>16292.0</td>\n",
       "      <td>jual beli sarana upacara banten dari janur</td>\n",
       "      <td>jual beli sarana upacara banten dari janur</td>\n",
       "      <td>['jual', 'beli', 'sarana', 'upacara', 'banten'...</td>\n",
       "      <td>['jual', 'beli', 'sarana', 'upacara', 'banten'...</td>\n",
       "      <td>['jual', 'beli', 'sarana', 'upacara', 'banten'...</td>\n",
       "    </tr>\n",
       "    <tr>\n",
       "      <th>1</th>\n",
       "      <td>menjual makanan ringan</td>\n",
       "      <td>makanan ringan</td>\n",
       "      <td>g</td>\n",
       "      <td>47112.0</td>\n",
       "      <td>menjual makanan ringan makanan ringan</td>\n",
       "      <td>menjual makanan ringan makanan ringan</td>\n",
       "      <td>['menjual', 'makanan', 'ringan', 'makanan', 'r...</td>\n",
       "      <td>['menjual', 'makanan', 'ringan', 'makanan', 'r...</td>\n",
       "      <td>['jual', 'makan', 'ringan', 'makan', 'ringan']</td>\n",
       "    </tr>\n",
       "    <tr>\n",
       "      <th>2</th>\n",
       "      <td>ukir sanggah dari kayu</td>\n",
       "      <td>ukiran kayu</td>\n",
       "      <td>c</td>\n",
       "      <td>16221.0</td>\n",
       "      <td>ukir sanggah dari kayu ukiran kayu</td>\n",
       "      <td>ukir sanggah dari kayu ukiran kayu</td>\n",
       "      <td>['ukir', 'sanggah', 'dari', 'kayu', 'ukiran', ...</td>\n",
       "      <td>['ukir', 'sanggah', 'kayu', 'ukiran', 'kayu']</td>\n",
       "      <td>['ukir', 'sanggah', 'kayu', 'ukir', 'kayu']</td>\n",
       "    </tr>\n",
       "    <tr>\n",
       "      <th>3</th>\n",
       "      <td>menjual makanan ringan</td>\n",
       "      <td>makanan ringan</td>\n",
       "      <td>g</td>\n",
       "      <td>47112.0</td>\n",
       "      <td>menjual makanan ringan makanan ringan</td>\n",
       "      <td>menjual makanan ringan makanan ringan</td>\n",
       "      <td>['menjual', 'makanan', 'ringan', 'makanan', 'r...</td>\n",
       "      <td>['menjual', 'makanan', 'ringan', 'makanan', 'r...</td>\n",
       "      <td>['jual', 'makan', 'ringan', 'makan', 'ringan']</td>\n",
       "    </tr>\n",
       "    <tr>\n",
       "      <th>4</th>\n",
       "      <td>jual minuman kopi</td>\n",
       "      <td>minuman kopi</td>\n",
       "      <td>i</td>\n",
       "      <td>56306.0</td>\n",
       "      <td>jual minuman kopi minuman kopi</td>\n",
       "      <td>jual minuman kopi minuman kopi</td>\n",
       "      <td>['jual', 'minuman', 'kopi', 'minuman', 'kopi']</td>\n",
       "      <td>['jual', 'minuman', 'kopi', 'minuman', 'kopi']</td>\n",
       "      <td>['jual', 'minum', 'kopi', 'minum', 'kopi']</td>\n",
       "    </tr>\n",
       "    <tr>\n",
       "      <th>...</th>\n",
       "      <td>...</td>\n",
       "      <td>...</td>\n",
       "      <td>...</td>\n",
       "      <td>...</td>\n",
       "      <td>...</td>\n",
       "      <td>...</td>\n",
       "      <td>...</td>\n",
       "      <td>...</td>\n",
       "      <td>...</td>\n",
       "    </tr>\n",
       "    <tr>\n",
       "      <th>394518</th>\n",
       "      <td>praktik doktor umum</td>\n",
       "      <td>jasa praktik doktor umum</td>\n",
       "      <td>q</td>\n",
       "      <td>86201.0</td>\n",
       "      <td>praktik doktor umum jasa praktik doktor umum</td>\n",
       "      <td>praktik doktor umum jasa praktik doktor umum</td>\n",
       "      <td>['praktik', 'doktor', 'umum', 'jasa', 'praktik...</td>\n",
       "      <td>['praktik', 'doktor', 'jasa', 'praktik', 'dokt...</td>\n",
       "      <td>['praktik', 'doktor', 'jasa', 'praktik', 'dokt...</td>\n",
       "    </tr>\n",
       "    <tr>\n",
       "      <th>394519</th>\n",
       "      <td>menjahit pakaian yang diinginkan</td>\n",
       "      <td>jasa menjahit pakaian</td>\n",
       "      <td>c</td>\n",
       "      <td>14120.0</td>\n",
       "      <td>menjahit pakaian yang diinginkan jasa menjahit...</td>\n",
       "      <td>menjahit pakaian yang diinginkan jasa menjahit...</td>\n",
       "      <td>['menjahit', 'pakaian', 'yang', 'diinginkan', ...</td>\n",
       "      <td>['menjahit', 'pakaian', 'jasa', 'menjahit', 'p...</td>\n",
       "      <td>['jahit', 'pakai', 'jasa', 'jahit', 'pakai']</td>\n",
       "    </tr>\n",
       "    <tr>\n",
       "      <th>394520</th>\n",
       "      <td>menjual gas epiji</td>\n",
       "      <td>gas elpiji</td>\n",
       "      <td>g</td>\n",
       "      <td>47772.0</td>\n",
       "      <td>menjual gas epiji gas elpiji</td>\n",
       "      <td>menjual gas epiji gas elpiji</td>\n",
       "      <td>['menjual', 'gas', 'epiji', 'gas', 'elpiji']</td>\n",
       "      <td>['menjual', 'gas', 'epiji', 'gas', 'elpiji']</td>\n",
       "      <td>['jual', 'gas', 'epiji', 'gas', 'elpiji']</td>\n",
       "    </tr>\n",
       "    <tr>\n",
       "      <th>394521</th>\n",
       "      <td>menjual eceran sembako di warung</td>\n",
       "      <td>makanan dan minuman</td>\n",
       "      <td>g</td>\n",
       "      <td>47112.0</td>\n",
       "      <td>menjual eceran sembako di warung makanan dan m...</td>\n",
       "      <td>menjual eceran sembako di warung makanan dan m...</td>\n",
       "      <td>['menjual', 'eceran', 'sembako', 'di', 'warung...</td>\n",
       "      <td>['menjual', 'eceran', 'sembako', 'warung', 'ma...</td>\n",
       "      <td>['jual', 'ecer', 'sembako', 'warung', 'makan',...</td>\n",
       "    </tr>\n",
       "    <tr>\n",
       "      <th>394522</th>\n",
       "      <td>menyablon baju sesuai yang diinginkan</td>\n",
       "      <td>jasa sablon baju</td>\n",
       "      <td>c</td>\n",
       "      <td>14111.0</td>\n",
       "      <td>menyablon baju sesuai yang diinginkan jasa sab...</td>\n",
       "      <td>menyablon baju sesuai yang diinginkan jasa sab...</td>\n",
       "      <td>['menyablon', 'baju', 'sesuai', 'yang', 'diing...</td>\n",
       "      <td>['menyablon', 'baju', 'jasa', 'sablon', 'baju']</td>\n",
       "      <td>['sablon', 'baju', 'jasa', 'sablon', 'baju']</td>\n",
       "    </tr>\n",
       "  </tbody>\n",
       "</table>\n",
       "<p>394523 rows × 9 columns</p>\n",
       "</div>"
      ],
      "text/plain": [
       "                               kategori_usaha              output_usaha  \\\n",
       "0                    jual beli sarana upacara         banten dari janur   \n",
       "1                      menjual makanan ringan            makanan ringan   \n",
       "2                      ukir sanggah dari kayu               ukiran kayu   \n",
       "3                      menjual makanan ringan            makanan ringan   \n",
       "4                           jual minuman kopi              minuman kopi   \n",
       "...                                       ...                       ...   \n",
       "394518                    praktik doktor umum  jasa praktik doktor umum   \n",
       "394519       menjahit pakaian yang diinginkan     jasa menjahit pakaian   \n",
       "394520                      menjual gas epiji                gas elpiji   \n",
       "394521       menjual eceran sembako di warung       makanan dan minuman   \n",
       "394522  menyablon baju sesuai yang diinginkan          jasa sablon baju   \n",
       "\n",
       "       kode_kategori  kode_kelompok  \\\n",
       "0                  c        16292.0   \n",
       "1                  g        47112.0   \n",
       "2                  c        16221.0   \n",
       "3                  g        47112.0   \n",
       "4                  i        56306.0   \n",
       "...              ...            ...   \n",
       "394518             q        86201.0   \n",
       "394519             c        14120.0   \n",
       "394520             g        47772.0   \n",
       "394521             g        47112.0   \n",
       "394522             c        14111.0   \n",
       "\n",
       "                                                     text  \\\n",
       "0              jual beli sarana upacara banten dari janur   \n",
       "1                   menjual makanan ringan makanan ringan   \n",
       "2                      ukir sanggah dari kayu ukiran kayu   \n",
       "3                   menjual makanan ringan makanan ringan   \n",
       "4                          jual minuman kopi minuman kopi   \n",
       "...                                                   ...   \n",
       "394518       praktik doktor umum jasa praktik doktor umum   \n",
       "394519  menjahit pakaian yang diinginkan jasa menjahit...   \n",
       "394520                       menjual gas epiji gas elpiji   \n",
       "394521  menjual eceran sembako di warung makanan dan m...   \n",
       "394522  menyablon baju sesuai yang diinginkan jasa sab...   \n",
       "\n",
       "                                              punctuation  \\\n",
       "0              jual beli sarana upacara banten dari janur   \n",
       "1                   menjual makanan ringan makanan ringan   \n",
       "2                      ukir sanggah dari kayu ukiran kayu   \n",
       "3                   menjual makanan ringan makanan ringan   \n",
       "4                          jual minuman kopi minuman kopi   \n",
       "...                                                   ...   \n",
       "394518       praktik doktor umum jasa praktik doktor umum   \n",
       "394519  menjahit pakaian yang diinginkan jasa menjahit...   \n",
       "394520                       menjual gas epiji gas elpiji   \n",
       "394521  menjual eceran sembako di warung makanan dan m...   \n",
       "394522  menyablon baju sesuai yang diinginkan jasa sab...   \n",
       "\n",
       "                                             tokenization  \\\n",
       "0       ['jual', 'beli', 'sarana', 'upacara', 'banten'...   \n",
       "1       ['menjual', 'makanan', 'ringan', 'makanan', 'r...   \n",
       "2       ['ukir', 'sanggah', 'dari', 'kayu', 'ukiran', ...   \n",
       "3       ['menjual', 'makanan', 'ringan', 'makanan', 'r...   \n",
       "4          ['jual', 'minuman', 'kopi', 'minuman', 'kopi']   \n",
       "...                                                   ...   \n",
       "394518  ['praktik', 'doktor', 'umum', 'jasa', 'praktik...   \n",
       "394519  ['menjahit', 'pakaian', 'yang', 'diinginkan', ...   \n",
       "394520       ['menjual', 'gas', 'epiji', 'gas', 'elpiji']   \n",
       "394521  ['menjual', 'eceran', 'sembako', 'di', 'warung...   \n",
       "394522  ['menyablon', 'baju', 'sesuai', 'yang', 'diing...   \n",
       "\n",
       "                                                stopwords  \\\n",
       "0       ['jual', 'beli', 'sarana', 'upacara', 'banten'...   \n",
       "1       ['menjual', 'makanan', 'ringan', 'makanan', 'r...   \n",
       "2           ['ukir', 'sanggah', 'kayu', 'ukiran', 'kayu']   \n",
       "3       ['menjual', 'makanan', 'ringan', 'makanan', 'r...   \n",
       "4          ['jual', 'minuman', 'kopi', 'minuman', 'kopi']   \n",
       "...                                                   ...   \n",
       "394518  ['praktik', 'doktor', 'jasa', 'praktik', 'dokt...   \n",
       "394519  ['menjahit', 'pakaian', 'jasa', 'menjahit', 'p...   \n",
       "394520       ['menjual', 'gas', 'epiji', 'gas', 'elpiji']   \n",
       "394521  ['menjual', 'eceran', 'sembako', 'warung', 'ma...   \n",
       "394522    ['menyablon', 'baju', 'jasa', 'sablon', 'baju']   \n",
       "\n",
       "                                                 stemming  \n",
       "0       ['jual', 'beli', 'sarana', 'upacara', 'banten'...  \n",
       "1          ['jual', 'makan', 'ringan', 'makan', 'ringan']  \n",
       "2             ['ukir', 'sanggah', 'kayu', 'ukir', 'kayu']  \n",
       "3          ['jual', 'makan', 'ringan', 'makan', 'ringan']  \n",
       "4              ['jual', 'minum', 'kopi', 'minum', 'kopi']  \n",
       "...                                                   ...  \n",
       "394518  ['praktik', 'doktor', 'jasa', 'praktik', 'dokt...  \n",
       "394519       ['jahit', 'pakai', 'jasa', 'jahit', 'pakai']  \n",
       "394520          ['jual', 'gas', 'epiji', 'gas', 'elpiji']  \n",
       "394521  ['jual', 'ecer', 'sembako', 'warung', 'makan',...  \n",
       "394522       ['sablon', 'baju', 'jasa', 'sablon', 'baju']  \n",
       "\n",
       "[394523 rows x 9 columns]"
      ]
     },
     "execution_count": 5,
     "metadata": {},
     "output_type": "execute_result"
    }
   ],
   "source": [
    "feature"
   ]
  },
  {
   "cell_type": "code",
   "execution_count": 6,
   "metadata": {},
   "outputs": [],
   "source": [
    "df = feature[['kategori_usaha','kode_kategori']]"
   ]
  },
  {
   "cell_type": "code",
   "execution_count": 7,
   "metadata": {},
   "outputs": [
    {
     "data": {
      "text/html": [
       "<div>\n",
       "<style scoped>\n",
       "    .dataframe tbody tr th:only-of-type {\n",
       "        vertical-align: middle;\n",
       "    }\n",
       "\n",
       "    .dataframe tbody tr th {\n",
       "        vertical-align: top;\n",
       "    }\n",
       "\n",
       "    .dataframe thead th {\n",
       "        text-align: right;\n",
       "    }\n",
       "</style>\n",
       "<table border=\"1\" class=\"dataframe\">\n",
       "  <thead>\n",
       "    <tr style=\"text-align: right;\">\n",
       "      <th></th>\n",
       "      <th>kategori_usaha</th>\n",
       "      <th>kode_kategori</th>\n",
       "    </tr>\n",
       "  </thead>\n",
       "  <tbody>\n",
       "    <tr>\n",
       "      <th>0</th>\n",
       "      <td>jual beli sarana upacara</td>\n",
       "      <td>c</td>\n",
       "    </tr>\n",
       "    <tr>\n",
       "      <th>1</th>\n",
       "      <td>menjual makanan ringan</td>\n",
       "      <td>g</td>\n",
       "    </tr>\n",
       "    <tr>\n",
       "      <th>2</th>\n",
       "      <td>ukir sanggah dari kayu</td>\n",
       "      <td>c</td>\n",
       "    </tr>\n",
       "    <tr>\n",
       "      <th>3</th>\n",
       "      <td>menjual makanan ringan</td>\n",
       "      <td>g</td>\n",
       "    </tr>\n",
       "    <tr>\n",
       "      <th>4</th>\n",
       "      <td>jual minuman kopi</td>\n",
       "      <td>i</td>\n",
       "    </tr>\n",
       "    <tr>\n",
       "      <th>...</th>\n",
       "      <td>...</td>\n",
       "      <td>...</td>\n",
       "    </tr>\n",
       "    <tr>\n",
       "      <th>394518</th>\n",
       "      <td>praktik doktor umum</td>\n",
       "      <td>q</td>\n",
       "    </tr>\n",
       "    <tr>\n",
       "      <th>394519</th>\n",
       "      <td>menjahit pakaian yang diinginkan</td>\n",
       "      <td>c</td>\n",
       "    </tr>\n",
       "    <tr>\n",
       "      <th>394520</th>\n",
       "      <td>menjual gas epiji</td>\n",
       "      <td>g</td>\n",
       "    </tr>\n",
       "    <tr>\n",
       "      <th>394521</th>\n",
       "      <td>menjual eceran sembako di warung</td>\n",
       "      <td>g</td>\n",
       "    </tr>\n",
       "    <tr>\n",
       "      <th>394522</th>\n",
       "      <td>menyablon baju sesuai yang diinginkan</td>\n",
       "      <td>c</td>\n",
       "    </tr>\n",
       "  </tbody>\n",
       "</table>\n",
       "<p>394523 rows × 2 columns</p>\n",
       "</div>"
      ],
      "text/plain": [
       "                               kategori_usaha kode_kategori\n",
       "0                    jual beli sarana upacara             c\n",
       "1                      menjual makanan ringan             g\n",
       "2                      ukir sanggah dari kayu             c\n",
       "3                      menjual makanan ringan             g\n",
       "4                           jual minuman kopi             i\n",
       "...                                       ...           ...\n",
       "394518                    praktik doktor umum             q\n",
       "394519       menjahit pakaian yang diinginkan             c\n",
       "394520                      menjual gas epiji             g\n",
       "394521       menjual eceran sembako di warung             g\n",
       "394522  menyablon baju sesuai yang diinginkan             c\n",
       "\n",
       "[394523 rows x 2 columns]"
      ]
     },
     "execution_count": 7,
     "metadata": {},
     "output_type": "execute_result"
    }
   ],
   "source": [
    "df"
   ]
  },
  {
   "cell_type": "code",
   "execution_count": 8,
   "metadata": {},
   "outputs": [
    {
     "name": "stderr",
     "output_type": "stream",
     "text": [
      "C:\\Users\\adiag\\AppData\\Local\\Temp\\ipykernel_4352\\2006725409.py:1: SettingWithCopyWarning: \n",
      "A value is trying to be set on a copy of a slice from a DataFrame\n",
      "\n",
      "See the caveats in the documentation: https://pandas.pydata.org/pandas-docs/stable/user_guide/indexing.html#returning-a-view-versus-a-copy\n",
      "  df.rename(columns={'kategori_usaha':'text','kode_kategori':'label'},inplace = True)\n"
     ]
    }
   ],
   "source": [
    "df.rename(columns={'kategori_usaha':'text','kode_kategori':'label'},inplace = True)"
   ]
  },
  {
   "cell_type": "code",
   "execution_count": 9,
   "metadata": {},
   "outputs": [
    {
     "data": {
      "text/html": [
       "<div>\n",
       "<style scoped>\n",
       "    .dataframe tbody tr th:only-of-type {\n",
       "        vertical-align: middle;\n",
       "    }\n",
       "\n",
       "    .dataframe tbody tr th {\n",
       "        vertical-align: top;\n",
       "    }\n",
       "\n",
       "    .dataframe thead th {\n",
       "        text-align: right;\n",
       "    }\n",
       "</style>\n",
       "<table border=\"1\" class=\"dataframe\">\n",
       "  <thead>\n",
       "    <tr style=\"text-align: right;\">\n",
       "      <th></th>\n",
       "      <th>text</th>\n",
       "      <th>label</th>\n",
       "    </tr>\n",
       "  </thead>\n",
       "  <tbody>\n",
       "    <tr>\n",
       "      <th>0</th>\n",
       "      <td>jual beli sarana upacara</td>\n",
       "      <td>c</td>\n",
       "    </tr>\n",
       "    <tr>\n",
       "      <th>1</th>\n",
       "      <td>menjual makanan ringan</td>\n",
       "      <td>g</td>\n",
       "    </tr>\n",
       "    <tr>\n",
       "      <th>2</th>\n",
       "      <td>ukir sanggah dari kayu</td>\n",
       "      <td>c</td>\n",
       "    </tr>\n",
       "    <tr>\n",
       "      <th>3</th>\n",
       "      <td>menjual makanan ringan</td>\n",
       "      <td>g</td>\n",
       "    </tr>\n",
       "    <tr>\n",
       "      <th>4</th>\n",
       "      <td>jual minuman kopi</td>\n",
       "      <td>i</td>\n",
       "    </tr>\n",
       "    <tr>\n",
       "      <th>...</th>\n",
       "      <td>...</td>\n",
       "      <td>...</td>\n",
       "    </tr>\n",
       "    <tr>\n",
       "      <th>394518</th>\n",
       "      <td>praktik doktor umum</td>\n",
       "      <td>q</td>\n",
       "    </tr>\n",
       "    <tr>\n",
       "      <th>394519</th>\n",
       "      <td>menjahit pakaian yang diinginkan</td>\n",
       "      <td>c</td>\n",
       "    </tr>\n",
       "    <tr>\n",
       "      <th>394520</th>\n",
       "      <td>menjual gas epiji</td>\n",
       "      <td>g</td>\n",
       "    </tr>\n",
       "    <tr>\n",
       "      <th>394521</th>\n",
       "      <td>menjual eceran sembako di warung</td>\n",
       "      <td>g</td>\n",
       "    </tr>\n",
       "    <tr>\n",
       "      <th>394522</th>\n",
       "      <td>menyablon baju sesuai yang diinginkan</td>\n",
       "      <td>c</td>\n",
       "    </tr>\n",
       "  </tbody>\n",
       "</table>\n",
       "<p>394523 rows × 2 columns</p>\n",
       "</div>"
      ],
      "text/plain": [
       "                                         text label\n",
       "0                    jual beli sarana upacara     c\n",
       "1                      menjual makanan ringan     g\n",
       "2                      ukir sanggah dari kayu     c\n",
       "3                      menjual makanan ringan     g\n",
       "4                           jual minuman kopi     i\n",
       "...                                       ...   ...\n",
       "394518                    praktik doktor umum     q\n",
       "394519       menjahit pakaian yang diinginkan     c\n",
       "394520                      menjual gas epiji     g\n",
       "394521       menjual eceran sembako di warung     g\n",
       "394522  menyablon baju sesuai yang diinginkan     c\n",
       "\n",
       "[394523 rows x 2 columns]"
      ]
     },
     "execution_count": 9,
     "metadata": {},
     "output_type": "execute_result"
    }
   ],
   "source": [
    "df"
   ]
  },
  {
   "cell_type": "markdown",
   "metadata": {},
   "source": [
    "### Cleaning dataset"
   ]
  },
  {
   "cell_type": "code",
   "execution_count": 10,
   "metadata": {},
   "outputs": [],
   "source": [
    "stop_words = open(paths['STOPWORD']).read().splitlines()\n"
   ]
  },
  {
   "cell_type": "code",
   "execution_count": 11,
   "metadata": {},
   "outputs": [],
   "source": [
    "root_words = open(paths['ROOT']).read().splitlines()\n"
   ]
  },
  {
   "cell_type": "code",
   "execution_count": 12,
   "metadata": {},
   "outputs": [],
   "source": [
    "def cleansing(text):   \n",
    "    # Mengubah setiap kata menjadi lowercase\n",
    "    text =  str(text).lower() \n",
    "    # Menghapus Link Dengan Pattern http/https dan www\n",
    "    text = re.sub(r'http\\S+', '', text)\n",
    "    text = re.sub('(@\\w+|#\\w+)', '', text)\n",
    "    # Menghapus Tag HTML\n",
    "    text = re.sub('<.*?>', '', text)\n",
    "    # Menghapus Tanda Baca Seperti Titik Dan Koma\n",
    "    text = text.translate(str.maketrans(' ', ' ', string.punctuation))\n",
    "    # Menghapus Karakter Selain Huruf a-z dan A-Z\n",
    "    text = re.sub('[^a-zA-Z]', ' ', text)\n",
    "    # Mengganti baris baru (enter) dengan spasi\n",
    "    text = re.sub(\"\\n\", \" \", text)\n",
    "    # Menghapus Karakter Berulang (Contoh: Ya!!! menjadi Ya!)\n",
    "    text = re.sub(r'(\\w)(\\1{2,})', r\"\\1\", text)\n",
    "    # Menghapus 1 Karakter Terpisah\n",
    "    text = re.sub(r\"\\b[a-zA-Z]\\b\", \"\", text)\n",
    "    # Menghapus Spasi Yang Lebih Dari Satu\n",
    "    text = re.sub('(s{2,})', ' ', text)\n",
    "    # Menghapus kata yang mengandung judul topik dan kata yang terdapat pada stopwords indonesia\n",
    "    temp_text_split = []\n",
    "    text_split = text.split(' ')\n",
    "\n",
    "    for i in range(len(text_split)):\n",
    "        if text_split[i] not in stop_words:\n",
    "            # if text_split[i] in root_words:\n",
    "            #      text_split[i] = root_words[text_split[i]]\n",
    "\n",
    "            temp_text_split.append(str(text_split[i]))\n",
    "    \n",
    "    temp_text_split = list(set(temp_text_split))  \n",
    "    text = ' '.join(temp_text_split)\n",
    "       \n",
    "    # Mengembalikan Hasil Preprocessing Text\n",
    "    return str.lstrip(text)"
   ]
  },
  {
   "cell_type": "code",
   "execution_count": 13,
   "metadata": {},
   "outputs": [
    {
     "data": {
      "text/plain": [
       "0                      jual beli sarana upacara\n",
       "1                        menjual makanan ringan\n",
       "2                        ukir sanggah dari kayu\n",
       "3                        menjual makanan ringan\n",
       "4                             jual minuman kopi\n",
       "                          ...                  \n",
       "394518                      praktik doktor umum\n",
       "394519         menjahit pakaian yang diinginkan\n",
       "394520                        menjual gas epiji\n",
       "394521         menjual eceran sembako di warung\n",
       "394522    menyablon baju sesuai yang diinginkan\n",
       "Name: text, Length: 394523, dtype: object"
      ]
     },
     "execution_count": 13,
     "metadata": {},
     "output_type": "execute_result"
    }
   ],
   "source": [
    "df['text']"
   ]
  },
  {
   "cell_type": "code",
   "execution_count": 14,
   "metadata": {},
   "outputs": [
    {
     "name": "stderr",
     "output_type": "stream",
     "text": [
      "C:\\Users\\adiag\\AppData\\Local\\Temp\\ipykernel_4352\\1477846019.py:1: SettingWithCopyWarning: \n",
      "A value is trying to be set on a copy of a slice from a DataFrame.\n",
      "Try using .loc[row_indexer,col_indexer] = value instead\n",
      "\n",
      "See the caveats in the documentation: https://pandas.pydata.org/pandas-docs/stable/user_guide/indexing.html#returning-a-view-versus-a-copy\n",
      "  df['text'] = df['text'].apply(cleansing)\n"
     ]
    },
    {
     "name": "stdout",
     "output_type": "stream",
     "text": [
      "Total Dataset Latih : 260401\n"
     ]
    }
   ],
   "source": [
    "df['text'] = df['text'].apply(cleansing)\n",
    "df = df[df['text'].str.split().str.len().gt(2)]\n",
    "\n",
    "print(\"Total Dataset Latih :\", len(df))\n"
   ]
  },
  {
   "cell_type": "code",
   "execution_count": 15,
   "metadata": {},
   "outputs": [
    {
     "data": {
      "text/html": [
       "<div>\n",
       "<style scoped>\n",
       "    .dataframe tbody tr th:only-of-type {\n",
       "        vertical-align: middle;\n",
       "    }\n",
       "\n",
       "    .dataframe tbody tr th {\n",
       "        vertical-align: top;\n",
       "    }\n",
       "\n",
       "    .dataframe thead th {\n",
       "        text-align: right;\n",
       "    }\n",
       "</style>\n",
       "<table border=\"1\" class=\"dataframe\">\n",
       "  <thead>\n",
       "    <tr style=\"text-align: right;\">\n",
       "      <th></th>\n",
       "      <th>text</th>\n",
       "      <th>label</th>\n",
       "    </tr>\n",
       "  </thead>\n",
       "  <tbody>\n",
       "    <tr>\n",
       "      <th>0</th>\n",
       "      <td>beli sarana upacara jual</td>\n",
       "      <td>c</td>\n",
       "    </tr>\n",
       "    <tr>\n",
       "      <th>1</th>\n",
       "      <td>menjual makanan ringan</td>\n",
       "      <td>g</td>\n",
       "    </tr>\n",
       "    <tr>\n",
       "      <th>2</th>\n",
       "      <td>sanggah ukir kayu</td>\n",
       "      <td>c</td>\n",
       "    </tr>\n",
       "    <tr>\n",
       "      <th>3</th>\n",
       "      <td>menjual makanan ringan</td>\n",
       "      <td>g</td>\n",
       "    </tr>\n",
       "    <tr>\n",
       "      <th>4</th>\n",
       "      <td>kopi minuman jual</td>\n",
       "      <td>i</td>\n",
       "    </tr>\n",
       "    <tr>\n",
       "      <th>...</th>\n",
       "      <td>...</td>\n",
       "      <td>...</td>\n",
       "    </tr>\n",
       "    <tr>\n",
       "      <th>394515</th>\n",
       "      <td>masakan menjual makanan membuat olahan</td>\n",
       "      <td>c</td>\n",
       "    </tr>\n",
       "    <tr>\n",
       "      <th>394516</th>\n",
       "      <td>menjual keliling pisang membuat goreng</td>\n",
       "      <td>c</td>\n",
       "    </tr>\n",
       "    <tr>\n",
       "      <th>394517</th>\n",
       "      <td>menerima mentah barang mengolah jual</td>\n",
       "      <td>c</td>\n",
       "    </tr>\n",
       "    <tr>\n",
       "      <th>394520</th>\n",
       "      <td>gas menjual epiji</td>\n",
       "      <td>g</td>\n",
       "    </tr>\n",
       "    <tr>\n",
       "      <th>394521</th>\n",
       "      <td>warung menjual eceran sembako</td>\n",
       "      <td>g</td>\n",
       "    </tr>\n",
       "  </tbody>\n",
       "</table>\n",
       "<p>260401 rows × 2 columns</p>\n",
       "</div>"
      ],
      "text/plain": [
       "                                          text label\n",
       "0                     beli sarana upacara jual     c\n",
       "1                       menjual makanan ringan     g\n",
       "2                            sanggah ukir kayu     c\n",
       "3                       menjual makanan ringan     g\n",
       "4                            kopi minuman jual     i\n",
       "...                                        ...   ...\n",
       "394515  masakan menjual makanan membuat olahan     c\n",
       "394516  menjual keliling pisang membuat goreng     c\n",
       "394517    menerima mentah barang mengolah jual     c\n",
       "394520                       gas menjual epiji     g\n",
       "394521           warung menjual eceran sembako     g\n",
       "\n",
       "[260401 rows x 2 columns]"
      ]
     },
     "execution_count": 15,
     "metadata": {},
     "output_type": "execute_result"
    }
   ],
   "source": [
    "df"
   ]
  },
  {
   "cell_type": "code",
   "execution_count": 16,
   "metadata": {},
   "outputs": [],
   "source": [
    "kode_n = df[df[\"label\"] == \"n\"]\n",
    "kode_p = df[df[\"label\"] == \"p\"]\n",
    "kode_j = df[df[\"label\"] == \"k\"]\n"
   ]
  },
  {
   "cell_type": "code",
   "execution_count": 19,
   "metadata": {},
   "outputs": [
    {
     "data": {
      "text/html": [
       "<div>\n",
       "<style scoped>\n",
       "    .dataframe tbody tr th:only-of-type {\n",
       "        vertical-align: middle;\n",
       "    }\n",
       "\n",
       "    .dataframe tbody tr th {\n",
       "        vertical-align: top;\n",
       "    }\n",
       "\n",
       "    .dataframe thead th {\n",
       "        text-align: right;\n",
       "    }\n",
       "</style>\n",
       "<table border=\"1\" class=\"dataframe\">\n",
       "  <thead>\n",
       "    <tr style=\"text-align: right;\">\n",
       "      <th></th>\n",
       "      <th>text</th>\n",
       "      <th>label</th>\n",
       "    </tr>\n",
       "  </thead>\n",
       "  <tbody>\n",
       "    <tr>\n",
       "      <th>810</th>\n",
       "      <td>pinjam sindan jasa</td>\n",
       "      <td>k</td>\n",
       "    </tr>\n",
       "    <tr>\n",
       "      <th>1120</th>\n",
       "      <td>simpan pinjam jasa</td>\n",
       "      <td>k</td>\n",
       "    </tr>\n",
       "    <tr>\n",
       "      <th>1157</th>\n",
       "      <td>aktivitas simpan pinjam</td>\n",
       "      <td>k</td>\n",
       "    </tr>\n",
       "    <tr>\n",
       "      <th>1158</th>\n",
       "      <td>aktivitas simpan uang pinjam</td>\n",
       "      <td>k</td>\n",
       "    </tr>\n",
       "    <tr>\n",
       "      <th>1293</th>\n",
       "      <td>gadai kredit jasa</td>\n",
       "      <td>k</td>\n",
       "    </tr>\n",
       "    <tr>\n",
       "      <th>...</th>\n",
       "      <td>...</td>\n",
       "      <td>...</td>\n",
       "    </tr>\n",
       "    <tr>\n",
       "      <th>394375</th>\n",
       "      <td>simpan melayani pinjam</td>\n",
       "      <td>k</td>\n",
       "    </tr>\n",
       "    <tr>\n",
       "      <th>394388</th>\n",
       "      <td>simpan koperasi pinjam</td>\n",
       "      <td>k</td>\n",
       "    </tr>\n",
       "    <tr>\n",
       "      <th>394406</th>\n",
       "      <td>simpan koperasi pinjam</td>\n",
       "      <td>k</td>\n",
       "    </tr>\n",
       "    <tr>\n",
       "      <th>394417</th>\n",
       "      <td>simpan koperasi pinjam</td>\n",
       "      <td>k</td>\n",
       "    </tr>\n",
       "    <tr>\n",
       "      <th>394427</th>\n",
       "      <td>usaha simpan karyawan pinjam</td>\n",
       "      <td>k</td>\n",
       "    </tr>\n",
       "  </tbody>\n",
       "</table>\n",
       "<p>3093 rows × 2 columns</p>\n",
       "</div>"
      ],
      "text/plain": [
       "                                text label\n",
       "810               pinjam sindan jasa     k\n",
       "1120              simpan pinjam jasa     k\n",
       "1157         aktivitas simpan pinjam     k\n",
       "1158    aktivitas simpan uang pinjam     k\n",
       "1293               gadai kredit jasa     k\n",
       "...                              ...   ...\n",
       "394375        simpan melayani pinjam     k\n",
       "394388        simpan koperasi pinjam     k\n",
       "394406        simpan koperasi pinjam     k\n",
       "394417        simpan koperasi pinjam     k\n",
       "394427  usaha simpan karyawan pinjam     k\n",
       "\n",
       "[3093 rows x 2 columns]"
      ]
     },
     "execution_count": 19,
     "metadata": {},
     "output_type": "execute_result"
    }
   ],
   "source": [
    "kode_j\n"
   ]
  },
  {
   "cell_type": "code",
   "execution_count": 18,
   "metadata": {},
   "outputs": [
    {
     "data": {
      "text/html": [
       "<div>\n",
       "<style scoped>\n",
       "    .dataframe tbody tr th:only-of-type {\n",
       "        vertical-align: middle;\n",
       "    }\n",
       "\n",
       "    .dataframe tbody tr th {\n",
       "        vertical-align: top;\n",
       "    }\n",
       "\n",
       "    .dataframe thead th {\n",
       "        text-align: right;\n",
       "    }\n",
       "</style>\n",
       "<table border=\"1\" class=\"dataframe\">\n",
       "  <thead>\n",
       "    <tr style=\"text-align: right;\">\n",
       "      <th></th>\n",
       "      <th>text</th>\n",
       "      <th>label</th>\n",
       "    </tr>\n",
       "  </thead>\n",
       "  <tbody>\n",
       "    <tr>\n",
       "      <th>467</th>\n",
       "      <td>asyidikiyah paud pendidikan jasa</td>\n",
       "      <td>p</td>\n",
       "    </tr>\n",
       "    <tr>\n",
       "      <th>473</th>\n",
       "      <td>sekolah dasar pendidikan jasa</td>\n",
       "      <td>p</td>\n",
       "    </tr>\n",
       "    <tr>\n",
       "      <th>522</th>\n",
       "      <td>kanak taman pendidikan</td>\n",
       "      <td>p</td>\n",
       "    </tr>\n",
       "    <tr>\n",
       "      <th>523</th>\n",
       "      <td>pedidikan menengah sekolah jasa</td>\n",
       "      <td>p</td>\n",
       "    </tr>\n",
       "    <tr>\n",
       "      <th>1171</th>\n",
       "      <td>kanak menyelenggarakan pendidikan</td>\n",
       "      <td>p</td>\n",
       "    </tr>\n",
       "    <tr>\n",
       "      <th>...</th>\n",
       "      <td>...</td>\n",
       "      <td>...</td>\n",
       "    </tr>\n",
       "    <tr>\n",
       "      <th>393672</th>\n",
       "      <td>dasar pendidikan sekolah</td>\n",
       "      <td>p</td>\n",
       "    </tr>\n",
       "    <tr>\n",
       "      <th>394326</th>\n",
       "      <td>perguruan kanda empat</td>\n",
       "      <td>p</td>\n",
       "    </tr>\n",
       "    <tr>\n",
       "      <th>394420</th>\n",
       "      <td>anak usia pendidikan</td>\n",
       "      <td>p</td>\n",
       "    </tr>\n",
       "    <tr>\n",
       "      <th>394429</th>\n",
       "      <td>menyediakan bimbingan belajar jasa</td>\n",
       "      <td>p</td>\n",
       "    </tr>\n",
       "    <tr>\n",
       "      <th>394462</th>\n",
       "      <td>dasar pendidikan sekolah</td>\n",
       "      <td>p</td>\n",
       "    </tr>\n",
       "  </tbody>\n",
       "</table>\n",
       "<p>2831 rows × 2 columns</p>\n",
       "</div>"
      ],
      "text/plain": [
       "                                      text label\n",
       "467       asyidikiyah paud pendidikan jasa     p\n",
       "473          sekolah dasar pendidikan jasa     p\n",
       "522                 kanak taman pendidikan     p\n",
       "523        pedidikan menengah sekolah jasa     p\n",
       "1171     kanak menyelenggarakan pendidikan     p\n",
       "...                                    ...   ...\n",
       "393672            dasar pendidikan sekolah     p\n",
       "394326               perguruan kanda empat     p\n",
       "394420                anak usia pendidikan     p\n",
       "394429  menyediakan bimbingan belajar jasa     p\n",
       "394462            dasar pendidikan sekolah     p\n",
       "\n",
       "[2831 rows x 2 columns]"
      ]
     },
     "execution_count": 18,
     "metadata": {},
     "output_type": "execute_result"
    }
   ],
   "source": [
    "kode_p"
   ]
  },
  {
   "cell_type": "code",
   "execution_count": 17,
   "metadata": {},
   "outputs": [
    {
     "data": {
      "text/html": [
       "<div>\n",
       "<style scoped>\n",
       "    .dataframe tbody tr th:only-of-type {\n",
       "        vertical-align: middle;\n",
       "    }\n",
       "\n",
       "    .dataframe tbody tr th {\n",
       "        vertical-align: top;\n",
       "    }\n",
       "\n",
       "    .dataframe thead th {\n",
       "        text-align: right;\n",
       "    }\n",
       "</style>\n",
       "<table border=\"1\" class=\"dataframe\">\n",
       "  <thead>\n",
       "    <tr style=\"text-align: right;\">\n",
       "      <th></th>\n",
       "      <th>text</th>\n",
       "      <th>label</th>\n",
       "    </tr>\n",
       "  </thead>\n",
       "  <tbody>\n",
       "    <tr>\n",
       "      <th>274</th>\n",
       "      <td>alat olah menyewakan raga</td>\n",
       "      <td>n</td>\n",
       "    </tr>\n",
       "    <tr>\n",
       "      <th>441</th>\n",
       "      <td>tour penjualan malam agen tiket paket bus</td>\n",
       "      <td>n</td>\n",
       "    </tr>\n",
       "    <tr>\n",
       "      <th>601</th>\n",
       "      <td>alat persewaan perkawinan</td>\n",
       "      <td>n</td>\n",
       "    </tr>\n",
       "    <tr>\n",
       "      <th>1099</th>\n",
       "      <td>permainan game menyewakan ps</td>\n",
       "      <td>n</td>\n",
       "    </tr>\n",
       "    <tr>\n",
       "      <th>1139</th>\n",
       "      <td>kertas fotocopy jasa</td>\n",
       "      <td>n</td>\n",
       "    </tr>\n",
       "    <tr>\n",
       "      <th>...</th>\n",
       "      <td>...</td>\n",
       "      <td>...</td>\n",
       "    </tr>\n",
       "    <tr>\n",
       "      <th>394043</th>\n",
       "      <td>copy atk menjual foto</td>\n",
       "      <td>n</td>\n",
       "    </tr>\n",
       "    <tr>\n",
       "      <th>394341</th>\n",
       "      <td>mobil travel paket menyewakan</td>\n",
       "      <td>n</td>\n",
       "    </tr>\n",
       "    <tr>\n",
       "      <th>394426</th>\n",
       "      <td>kerja manajemen penyediaan tenaga</td>\n",
       "      <td>n</td>\n",
       "    </tr>\n",
       "    <tr>\n",
       "      <th>394452</th>\n",
       "      <td>game menyewakan ps</td>\n",
       "      <td>n</td>\n",
       "    </tr>\n",
       "    <tr>\n",
       "      <th>394502</th>\n",
       "      <td>wisata aktivitas persalanan biro</td>\n",
       "      <td>n</td>\n",
       "    </tr>\n",
       "  </tbody>\n",
       "</table>\n",
       "<p>2856 rows × 2 columns</p>\n",
       "</div>"
      ],
      "text/plain": [
       "                                             text label\n",
       "274                     alat olah menyewakan raga     n\n",
       "441     tour penjualan malam agen tiket paket bus     n\n",
       "601                     alat persewaan perkawinan     n\n",
       "1099                 permainan game menyewakan ps     n\n",
       "1139                         kertas fotocopy jasa     n\n",
       "...                                           ...   ...\n",
       "394043                      copy atk menjual foto     n\n",
       "394341              mobil travel paket menyewakan     n\n",
       "394426          kerja manajemen penyediaan tenaga     n\n",
       "394452                         game menyewakan ps     n\n",
       "394502           wisata aktivitas persalanan biro     n\n",
       "\n",
       "[2856 rows x 2 columns]"
      ]
     },
     "execution_count": 17,
     "metadata": {},
     "output_type": "execute_result"
    }
   ],
   "source": [
    "kode_n"
   ]
  },
  {
   "cell_type": "code",
   "execution_count": null,
   "metadata": {},
   "outputs": [],
   "source": [
    "n_downsample = resample(kode_n,\n",
    "                        replace=True,\n",
    "                        n_samples=500,\n",
    "                        random_state=42)\n",
    "\n",
    "print(n_downsample.shape)\n"
   ]
  },
  {
   "cell_type": "code",
   "execution_count": null,
   "metadata": {},
   "outputs": [],
   "source": [
    "p_downsample = resample(kode_p,\n",
    "                        replace=True,\n",
    "                        n_samples=500,\n",
    "                        random_state=42)\n",
    "\n",
    "print(p_downsample.shape)\n"
   ]
  },
  {
   "cell_type": "code",
   "execution_count": null,
   "metadata": {},
   "outputs": [],
   "source": [
    "j_downsample = resample(kode_j,\n",
    "                        replace=True,\n",
    "                        n_samples=500,\n",
    "                        random_state=42)\n",
    "\n",
    "print(n_downsample.shape)\n"
   ]
  },
  {
   "cell_type": "code",
   "execution_count": null,
   "metadata": {},
   "outputs": [],
   "source": [
    "df_clean = pd.concat([n_downsample, p_downsample, j_downsample])\n"
   ]
  },
  {
   "cell_type": "code",
   "execution_count": null,
   "metadata": {},
   "outputs": [],
   "source": [
    "df_clean['label'].value_counts()"
   ]
  },
  {
   "cell_type": "code",
   "execution_count": null,
   "metadata": {},
   "outputs": [],
   "source": [
    "df_clean"
   ]
  },
  {
   "cell_type": "code",
   "execution_count": null,
   "metadata": {},
   "outputs": [],
   "source": [
    "df_clean[\"label\"] = df_clean[\"label\"].map({\"n\": 0, \"p\": 1, 'k': 2})\n"
   ]
  },
  {
   "cell_type": "code",
   "execution_count": null,
   "metadata": {},
   "outputs": [],
   "source": [
    "df_clean"
   ]
  },
  {
   "cell_type": "code",
   "execution_count": null,
   "metadata": {},
   "outputs": [],
   "source": [
    "def train_val_test_split(df):\n",
    "    RANDOM_SEED = 42\n",
    "\n",
    "    df_train, df_test = train_test_split(\n",
    "        df,\n",
    "        test_size=0.1,\n",
    "        random_state=RANDOM_SEED,\n",
    "    )\n",
    "\n",
    "    df_val, df_test = train_test_split(\n",
    "        df_test,\n",
    "        test_size=0.5,\n",
    "        random_state=RANDOM_SEED,\n",
    "    )\n"
   ]
  },
  {
   "cell_type": "code",
   "execution_count": null,
   "metadata": {},
   "outputs": [],
   "source": [
    "df_train.shape"
   ]
  },
  {
   "cell_type": "code",
   "execution_count": null,
   "metadata": {},
   "outputs": [],
   "source": [
    "actual_label = df_test['label']\n"
   ]
  },
  {
   "cell_type": "code",
   "execution_count": null,
   "metadata": {},
   "outputs": [],
   "source": [
    "actual_label.shape"
   ]
  },
  {
   "cell_type": "code",
   "execution_count": null,
   "metadata": {},
   "outputs": [],
   "source": [
    "paths['TRAIN']"
   ]
  },
  {
   "cell_type": "code",
   "execution_count": null,
   "metadata": {},
   "outputs": [],
   "source": [
    "df_train.to_csv(paths['TRAIN'], index=False)\n",
    "df_val.to_csv(paths['VALIDATION'], index=False)\n",
    "df_test.to_csv(paths['TEST'], index=False)\n"
   ]
  },
  {
   "cell_type": "code",
   "execution_count": null,
   "metadata": {},
   "outputs": [],
   "source": [
    "files = {\n",
    "        \"train\": paths['TRAIN'], \n",
    "        \"eval\": paths['VALIDATION'], \n",
    "        \"test\": paths['TEST']\n",
    "    }\n",
    "\n",
    "dataset = load_dataset('csv', data_files=files)"
   ]
  },
  {
   "cell_type": "code",
   "execution_count": null,
   "metadata": {},
   "outputs": [],
   "source": [
    "dataset"
   ]
  },
  {
   "cell_type": "markdown",
   "metadata": {},
   "source": [
    "## Model Tokenizer and Classification"
   ]
  },
  {
   "cell_type": "markdown",
   "metadata": {},
   "source": [
    "### Tokenizer"
   ]
  },
  {
   "cell_type": "code",
   "execution_count": null,
   "metadata": {},
   "outputs": [],
   "source": [
    "tokenizer = AutoTokenizer.from_pretrained(\"indobenchmark/indobert-base-p2\")\n"
   ]
  },
  {
   "cell_type": "code",
   "execution_count": null,
   "metadata": {},
   "outputs": [],
   "source": [
    "def tokenize_function(text):\n",
    "    return tokenizer(text[\"text\"], padding='max_length', max_length=256)\n",
    "\n",
    "tokenized_datasets = dataset.map(tokenize_function, batched=True)\n"
   ]
  },
  {
   "cell_type": "code",
   "execution_count": null,
   "metadata": {},
   "outputs": [],
   "source": [
    "tokenized_datasets\n"
   ]
  },
  {
   "cell_type": "code",
   "execution_count": null,
   "metadata": {},
   "outputs": [],
   "source": [
    "train_dataset = tokenized_datasets[\"train\"]\n",
    "eval_dataset = tokenized_datasets[\"eval\"]\n"
   ]
  },
  {
   "cell_type": "code",
   "execution_count": null,
   "metadata": {},
   "outputs": [],
   "source": [
    "train_dataset['feature']"
   ]
  },
  {
   "cell_type": "code",
   "execution_count": null,
   "metadata": {},
   "outputs": [],
   "source": [
    "model = AutoModelForSequenceClassification.from_pretrained(\n",
    "    \"indobenchmark/indobert-base-p2\", num_labels=3)\n"
   ]
  },
  {
   "cell_type": "code",
   "execution_count": null,
   "metadata": {},
   "outputs": [],
   "source": [
    "from transformers import TrainingArguments\n",
    "\n",
    "training_args = TrainingArguments(\"test_trainer\")\n"
   ]
  },
  {
   "cell_type": "code",
   "execution_count": null,
   "metadata": {},
   "outputs": [],
   "source": [
    "metric = load_metric(\"accuracy\")\n",
    "\n",
    "\n",
    "def compute_metrics(eval_pred):\n",
    "    logits, labels = eval_pred\n",
    "    predictions = np.argmax(logits, axis=-1)\n",
    "\n",
    "    return metric.compute(predictions=predictions, references=labels)\n",
    "\n",
    "\n",
    "trainer = Trainer(\n",
    "    model=model,\n",
    "    args=training_args,\n",
    "    train_dataset=train_dataset,\n",
    "    eval_dataset=eval_dataset,\n",
    "    compute_metrics=compute_metrics,\n",
    ")\n",
    "\n",
    "train_history = trainer.train()\n",
    "train_evaluate = trainer.evaluate()\n"
   ]
  },
  {
   "cell_type": "code",
   "execution_count": null,
   "metadata": {},
   "outputs": [],
   "source": [
    "trainer\n"
   ]
  },
  {
   "cell_type": "code",
   "execution_count": null,
   "metadata": {},
   "outputs": [],
   "source": [
    "test_dataset = tokenized_datasets[\"test\"]\n",
    "\n",
    "prediction = trainer.predict(test_dataset)\n",
    "prediction = prediction.predictions.argmax(1)\n",
    "\n",
    "prediction\n"
   ]
  },
  {
   "cell_type": "code",
   "execution_count": null,
   "metadata": {},
   "outputs": [],
   "source": [
    "test_dataset = tokenized_datasets[\"test\"]\n"
   ]
  },
  {
   "cell_type": "code",
   "execution_count": null,
   "metadata": {},
   "outputs": [],
   "source": [
    "testing = trainer.predict(token_test)"
   ]
  },
  {
   "cell_type": "code",
   "execution_count": null,
   "metadata": {},
   "outputs": [],
   "source": [
    "testing = testing.predictions.argmax(1)"
   ]
  },
  {
   "cell_type": "code",
   "execution_count": null,
   "metadata": {},
   "outputs": [],
   "source": [
    "testing"
   ]
  },
  {
   "cell_type": "code",
   "execution_count": null,
   "metadata": {},
   "outputs": [],
   "source": [
    "os.path.join(os.getcwd(),'model')"
   ]
  },
  {
   "cell_type": "code",
   "execution_count": null,
   "metadata": {},
   "outputs": [],
   "source": [
    "trainer.save_model(paths['SAVE_MODEL'])\n"
   ]
  },
  {
   "cell_type": "code",
   "execution_count": null,
   "metadata": {},
   "outputs": [],
   "source": [
    "tokenizer.save_pretrained(paths['SAVE_MODEL'])\n"
   ]
  },
  {
   "cell_type": "code",
   "execution_count": null,
   "metadata": {},
   "outputs": [],
   "source": [
    "def getUserInput(text):\n",
    "    ds = Dataset.from_dict({\"text\": [text]})\n",
    "    return ds\n"
   ]
  },
  {
   "cell_type": "code",
   "execution_count": null,
   "metadata": {},
   "outputs": [],
   "source": [
    "def getPredict(raw_text):\n",
    "    text = cleansing(raw_text)\n",
    "    dataset = getUserInput(text)\n",
    "    token = dataset.map(tokenize_function, batched=True)\n",
    "    predict = trainer.predict(token)\n",
    "    predict = predict.predictions.argmax(1)\n",
    "    predict = predict[0]\n",
    "    if predict == 0:\n",
    "        label = \"N\"\n",
    "        desc = \"Aktivitas Penyewaan dan Sewa Guna Usaha Tanpa Hak Opsi, Ketenagakerjaan, Agen Perjalanan dan Penunjang Usaha Lainnya\"\n",
    "    elif predict == 1:\n",
    "        label = \"P\"\n",
    "        desc = \"Pendidikan\"\n",
    "    elif predict == 2:\n",
    "        label = \"K\"\n",
    "        desc = \"Aktivitas Keuangan dan Asuransi\"\n",
    "    \n",
    "    return {'Label':label,'Descriptions':desc}\n",
    "\n",
    "    \n",
    "    \n",
    "    \n"
   ]
  },
  {
   "cell_type": "code",
   "execution_count": null,
   "metadata": {},
   "outputs": [],
   "source": [
    "result = getPredict('Guru les')"
   ]
  },
  {
   "cell_type": "code",
   "execution_count": null,
   "metadata": {},
   "outputs": [],
   "source": [
    "result"
   ]
  },
  {
   "cell_type": "markdown",
   "metadata": {},
   "source": [
    "## Load and Use Model"
   ]
  },
  {
   "cell_type": "code",
   "execution_count": null,
   "metadata": {},
   "outputs": [],
   "source": [
    "from transformers import AutoConfig"
   ]
  },
  {
   "cell_type": "code",
   "execution_count": null,
   "metadata": {},
   "outputs": [],
   "source": [
    "config = AutoConfig.from_pretrained(paths['SAVE_MODEL'])\n"
   ]
  },
  {
   "cell_type": "code",
   "execution_count": null,
   "metadata": {},
   "outputs": [],
   "source": [
    "config"
   ]
  },
  {
   "cell_type": "code",
   "execution_count": null,
   "metadata": {},
   "outputs": [],
   "source": [
    "new_model = AutoModelForSequenceClassification.from_config(config)\n"
   ]
  },
  {
   "cell_type": "code",
   "execution_count": null,
   "metadata": {},
   "outputs": [],
   "source": [
    "new_model"
   ]
  },
  {
   "cell_type": "code",
   "execution_count": null,
   "metadata": {},
   "outputs": [],
   "source": [
    "load_model = AutoModelForSequenceClassification.from_pretrained(paths['SAVE_MODEL'])\n",
    "load_token = AutoTokenizer.from_pretrained(paths['SAVE_MODEL'])\n"
   ]
  },
  {
   "cell_type": "code",
   "execution_count": null,
   "metadata": {},
   "outputs": [],
   "source": [
    "paths['SAVE_MODEL']\n"
   ]
  },
  {
   "cell_type": "code",
   "execution_count": null,
   "metadata": {},
   "outputs": [],
   "source": [
    "load_model"
   ]
  },
  {
   "cell_type": "code",
   "execution_count": null,
   "metadata": {},
   "outputs": [],
   "source": [
    "from transformers import pipeline"
   ]
  },
  {
   "cell_type": "code",
   "execution_count": null,
   "metadata": {},
   "outputs": [],
   "source": [
    "classifier = pipeline(\"sentiment-analysis\", model=\"./model/\")"
   ]
  },
  {
   "cell_type": "code",
   "execution_count": null,
   "metadata": {},
   "outputs": [],
   "source": [
    "classifier"
   ]
  },
  {
   "cell_type": "code",
   "execution_count": null,
   "metadata": {},
   "outputs": [],
   "source": [
    "results = classifier(\"penyewaan wedding\")"
   ]
  },
  {
   "cell_type": "code",
   "execution_count": null,
   "metadata": {},
   "outputs": [],
   "source": [
    "results"
   ]
  },
  {
   "cell_type": "code",
   "execution_count": null,
   "metadata": {},
   "outputs": [],
   "source": [
    "task_evaluator = evaluator(\"sentiment-analysis\")\n"
   ]
  },
  {
   "cell_type": "code",
   "execution_count": null,
   "metadata": {},
   "outputs": [],
   "source": [
    "eval_results = task_evaluator.compute(\n",
    "    model_or_pipeline=classifier,\n",
    "    data=test_dataset,\n",
    "    # label_mapping={\"\": 0, \"POSITIVE\": 1}\n",
    ")\n"
   ]
  },
  {
   "cell_type": "code",
   "execution_count": null,
   "metadata": {},
   "outputs": [],
   "source": [
    "from evaluate import evaluator\n"
   ]
  },
  {
   "cell_type": "code",
   "execution_count": null,
   "metadata": {},
   "outputs": [],
   "source": [
    "import evaluate"
   ]
  },
  {
   "cell_type": "code",
   "execution_count": null,
   "metadata": {},
   "outputs": [],
   "source": [
    "eval_results = task_evaluator.compute(\n",
    "    model_or_pipeline=\"./model/\",\n",
    "    data=test_dataset,\n",
    "    metric=evaluate.combine([\"accuracy\", \"recall\", \"precision\", \"f1\"]),\n",
    "    label_mapping={\"LABEL_0\": 0,\n",
    "                   \"LABEL_1\": 1,\n",
    "                   \"LABEL_2\": 2}\n",
    ")\n"
   ]
  },
  {
   "cell_type": "code",
   "execution_count": null,
   "metadata": {},
   "outputs": [],
   "source": []
  }
 ],
 "metadata": {
  "kernelspec": {
   "display_name": "Python 3.10.11 ('asica')",
   "language": "python",
   "name": "python3"
  },
  "language_info": {
   "codemirror_mode": {
    "name": "ipython",
    "version": 3
   },
   "file_extension": ".py",
   "mimetype": "text/x-python",
   "name": "python",
   "nbconvert_exporter": "python",
   "pygments_lexer": "ipython3",
   "version": "3.10.11"
  },
  "orig_nbformat": 4,
  "vscode": {
   "interpreter": {
    "hash": "f669a41de30b5d87daf15480da760dd2e330c2c9ad309f744c16772ec28e1918"
   }
  }
 },
 "nbformat": 4,
 "nbformat_minor": 2
}
